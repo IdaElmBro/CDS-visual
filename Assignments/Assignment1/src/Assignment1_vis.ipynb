{
 "cells": [
  {
   "cell_type": "markdown",
   "metadata": {},
   "source": [
    "# Assignment 1\n",
    "## Building a simple image search algorithm"
   ]
  },
  {
   "cell_type": "markdown",
   "metadata": {},
   "source": [
    "For this assignment, you'll be using ```OpenCV``` to design a simple image search algorithm.\n",
    "\n",
    "The dataset is a collection of over 1000 images of flowers, sampled from 17 different species. The dataset comes from the Visual Geometry Group at the University of Oxford, and full details of the data can be found [here](https://www.robots.ox.ac.uk/~vgg/data/flowers/17/).\n",
    "\n",
    "For this exercise, you should write some code which does the following:\n",
    "\n",
    "- Define a particular image that you want to work with\n",
    "- For that image\n",
    "  - Extract the colour histogram using ```OpenCV```\n",
    "- Extract colour histograms for all of the **other* images in the data\n",
    "- Compare the histogram of our chosen image to all of the other histograms \n",
    "  - For this, use the ```cv2.compareHist()``` function with the ```cv2.HISTCMP_CHISQR``` metric\n",
    "- Find the five images which are most simlar to the target image\n",
    "  - Save a CSV file to the folder called ```out```, showing the five most similar images and the distance metric:\n",
    "\n",
    "|Filename|Distance]\n",
    "|---|---|\n",
    "|target|0.0|\n",
    "|filename1|---|\n",
    "|filename2|---|"
   ]
  },
  {
   "cell_type": "markdown",
   "metadata": {},
   "source": [
    "### Import `modules`"
   ]
  },
  {
   "cell_type": "code",
   "execution_count": 6,
   "metadata": {},
   "outputs": [],
   "source": [
    "# load packages \n",
    "import os\n",
    "\n",
    "#python path \n",
    "import sys \n",
    "sys.path.append(\"..\")\n",
    "\n",
    "# image processing\n",
    "import cv2\n",
    "import numpy as np\n",
    "import pandas as pd\n",
    "\n"
   ]
  },
  {
   "cell_type": "markdown",
   "metadata": {},
   "source": [
    "### Function for generating histograms"
   ]
  },
  {
   "cell_type": "code",
   "execution_count": 9,
   "metadata": {},
   "outputs": [],
   "source": [
    "def gen_hists(image):\n",
    "    '''\n",
    "    This function generates normalized image histograms using the cv2 module.\n",
    "    '''\n",
    "    # load element\n",
    "    ref_img = cv2.imread(image)\n",
    "    # generate histogram \n",
    "    hist = cv2.calcHist([ref_img], [0, 1, 2], None, [255, 255, 255], [0,256, 0,256, 0,256])\n",
    "    # normalize\n",
    "    norm_hist = cv2.normalize(hist, hist, 0, 1.0, cv2.NORM_MINMAX)\n",
    "    return norm_hist\n"
   ]
  },
  {
   "cell_type": "markdown",
   "metadata": {},
   "source": [
    "### ```Filepaths```"
   ]
  },
  {
   "cell_type": "code",
   "execution_count": 21,
   "metadata": {},
   "outputs": [
    {
     "data": {
      "text/plain": [
       "'/work/CDS-visual/CDS-visual/Assignments/Assignment1/src'"
      ]
     },
     "execution_count": 21,
     "metadata": {},
     "output_type": "execute_result"
    }
   ],
   "source": [
    "os.getcwd() # get the current working directory"
   ]
  },
  {
   "cell_type": "code",
   "execution_count": 26,
   "metadata": {},
   "outputs": [],
   "source": [
    "# path for the flowers directory\n",
    "filepath = os.path.join(\"..\",   \n",
    "                        \"..\",\n",
    "                        \"..\",\n",
    "                        \"..\",\n",
    "                        \"..\",\n",
    "                        \"cds-vis-data\",\n",
    "                        \"flowers\"\n",
    ")\n",
    "\n",
    "# filepath for the reference image (very non-creative - image number 1)\n",
    "filepath_ref = os.path.join(\"..\",  \n",
    "                        \"..\",\n",
    "                        \"..\",\n",
    "                        \"..\",\n",
    "                        \"..\",\n",
    "                        \"cds-vis-data\",\n",
    "                        \"flowers\", \n",
    "                        \"image_0001.jpg\"\n",
    ")\n",
    "\n",
    "# output path to store the final csv\n",
    "output_path = os.path.join(\"..\",\n",
    "                            \"out\"\n",
    ")\n",
    "\n"
   ]
  },
  {
   "cell_type": "markdown",
   "metadata": {},
   "source": [
    "### Generate ```similarity csv```"
   ]
  },
  {
   "cell_type": "code",
   "execution_count": 13,
   "metadata": {},
   "outputs": [],
   "source": [
    "# get reference hist \n",
    "hist_ref = gen_hists(filepath_ref)\n",
    "\n",
    "# get image names for all images in the folder \n",
    "all = sorted(os.listdir(filepath))\n",
    "\n",
    "# initialize empty list \n",
    "results = []\n",
    "\n",
    "# get all histograms and compare them with image number 1\n",
    "for img in all:\n",
    "    input_path = os.path.join(filepath, img) # combine the filepath with the image names\n",
    "    hist = gen_hists(input_path) # generate histograms\n",
    "    distance = round(cv2.compareHist(hist_ref, hist, cv2.HISTCMP_CHISQR), 2) # calculate distance metric\n",
    "    results.append((img, distance)) # append to list\n",
    "    df = pd.DataFrame(results, \n",
    "                columns = [\"Filename\", \"Distance\"]).sort_values(by=[\"Distance\"]) # convert to pandas df, sorted by distance. \n",
    "    \n",
    "    \n"
   ]
  },
  {
   "cell_type": "code",
   "execution_count": 14,
   "metadata": {},
   "outputs": [
    {
     "data": {
      "text/html": [
       "<div>\n",
       "<style scoped>\n",
       "    .dataframe tbody tr th:only-of-type {\n",
       "        vertical-align: middle;\n",
       "    }\n",
       "\n",
       "    .dataframe tbody tr th {\n",
       "        vertical-align: top;\n",
       "    }\n",
       "\n",
       "    .dataframe thead th {\n",
       "        text-align: right;\n",
       "    }\n",
       "</style>\n",
       "<table border=\"1\" class=\"dataframe\">\n",
       "  <thead>\n",
       "    <tr style=\"text-align: right;\">\n",
       "      <th></th>\n",
       "      <th>Filename</th>\n",
       "      <th>Distance</th>\n",
       "    </tr>\n",
       "  </thead>\n",
       "  <tbody>\n",
       "    <tr>\n",
       "      <th>0</th>\n",
       "      <td>image_0001.jpg</td>\n",
       "      <td>0.00</td>\n",
       "    </tr>\n",
       "    <tr>\n",
       "      <th>927</th>\n",
       "      <td>image_0928.jpg</td>\n",
       "      <td>178.12</td>\n",
       "    </tr>\n",
       "    <tr>\n",
       "      <th>875</th>\n",
       "      <td>image_0876.jpg</td>\n",
       "      <td>188.55</td>\n",
       "    </tr>\n",
       "    <tr>\n",
       "      <th>772</th>\n",
       "      <td>image_0773.jpg</td>\n",
       "      <td>190.08</td>\n",
       "    </tr>\n",
       "    <tr>\n",
       "      <th>141</th>\n",
       "      <td>image_0142.jpg</td>\n",
       "      <td>190.21</td>\n",
       "    </tr>\n",
       "  </tbody>\n",
       "</table>\n",
       "</div>"
      ],
      "text/plain": [
       "           Filename  Distance\n",
       "0    image_0001.jpg      0.00\n",
       "927  image_0928.jpg    178.12\n",
       "875  image_0876.jpg    188.55\n",
       "772  image_0773.jpg    190.08\n",
       "141  image_0142.jpg    190.21"
      ]
     },
     "execution_count": 14,
     "metadata": {},
     "output_type": "execute_result"
    }
   ],
   "source": [
    "# show only first 5\n",
    "df_5 = df.head()\n",
    "df_5"
   ]
  },
  {
   "cell_type": "code",
   "execution_count": 27,
   "metadata": {},
   "outputs": [],
   "source": [
    "# save to out \n",
    "\n",
    "df_5.to_csv(os.path.join(output_path, \"distance.csv\"), index = False)"
   ]
  }
 ],
 "metadata": {
  "kernelspec": {
   "display_name": "Python 3",
   "language": "python",
   "name": "python3"
  },
  "language_info": {
   "codemirror_mode": {
    "name": "ipython",
    "version": 3
   },
   "file_extension": ".py",
   "mimetype": "text/x-python",
   "name": "python",
   "nbconvert_exporter": "python",
   "pygments_lexer": "ipython3",
   "version": "3.10.12"
  }
 },
 "nbformat": 4,
 "nbformat_minor": 2
}
