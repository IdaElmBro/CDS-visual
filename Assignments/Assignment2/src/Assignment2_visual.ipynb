{
 "cells": [
  {
   "cell_type": "markdown",
   "metadata": {},
   "source": [
    "# Assignment 2 - Classification benchmarks with Logistic Regression and Neural Networks\n",
    "\n",
    "For this assignment, we'll be writing scripts which classify the ```Cifar10``` dataset. You can read more about this dataset [here](https://www.cs.toronto.edu/~kriz/cifar.html)\n",
    "\n",
    "You should write code which does the following:\n",
    "\n",
    "- Load the Cifar10 dataset\n",
    "- Preprocess the data (e.g. greyscale, normalize, reshape)\n",
    "- Train a classifier on the data\n",
    "    - A logistic regression classifier *and* a neural network classifier\n",
    "- Save a classification report\n",
    "- Save a plot of the loss curve during training\n",
    "\n",
    "You should write **two scripts** for this assignment one script which does this for a logistic regression classifier **and** one which does it for a neural network classifier. In both cases, you should use the machine learning tools available via ```scikit-learn``` to evaluate model performance.\n",
    "\n",
    "## Starter code\n",
    "\n",
    "The data already has a train/test split and can be loaded in the following way:\n",
    "\n",
    "```python\n",
    "from tensorflow.keras.datasets import cifar10\n",
    "(X_train, y_train), (X_test, y_test) = cifar10.load_data()\n",
    "```\n",
    "\n",
    "Once you have loaded the data, made it greyscale, and scaled the values then you will need to *reshape* the array to be the correct dimensions - essentially flattening the 2d array like we saw with greyscale histograms. \n",
    "\n",
    "You can do that in the following way using ```numpy```:\n",
    "\n",
    "```python\n",
    "X_train_scaled.reshape(-1, 1024)\n",
    "X_test_scaled.reshape(-1, 1024)\n",
    "```\n",
    "\n",
    "## Tips\n",
    "\n",
    "- The Cifar10 dataset you download does not have explict label names but instead has numbers from 0-9. You'll need to make a list of labels based on the object names - you can find these on the website.\n",
    "- You should structure your project by having scripts saved in a folder called ```src```, and have a folder called ```out``` where you save the classification reports.\n",
    "\n",
    "## Purpose\n",
    "\n",
    "- To ensure that you can use ```scikit-learn``` to build simple benchmark classifiers on image classification data\n",
    "- To demonstrate that you can build reproducible pipelines for machine learning projects\n",
    "- To make sure that you can structure repos appropriately\n"
   ]
  },
  {
   "cell_type": "markdown",
   "metadata": {},
   "source": [
    "## Import ```modules```"
   ]
  },
  {
   "cell_type": "code",
   "execution_count": 14,
   "metadata": {},
   "outputs": [],
   "source": [
    "import os\n",
    "import sys\n",
    "sys.path.append(\"../../..\") # go three steps back to get the utils package \n",
    "\n",
    "import numpy as np\n",
    "import cv2\n",
    "import matplotlib.pyplot as plt # for loss curve - delete for logreg\n",
    "\n",
    "import utils.classifier_utils as clf_util\n",
    "\n",
    "# Import sklearn metrics\n",
    "from sklearn import metrics\n",
    "from sklearn.datasets import fetch_openml\n",
    "from sklearn.model_selection import train_test_split\n",
    "from sklearn.linear_model import LogisticRegression\n",
    "from sklearn.metrics import accuracy_score\n",
    "\n",
    "# Data\n",
    "from tensorflow.keras.datasets import cifar10"
   ]
  },
  {
   "cell_type": "markdown",
   "metadata": {},
   "source": [
    "## ```Process``` function"
   ]
  },
  {
   "cell_type": "code",
   "execution_count": 4,
   "metadata": {},
   "outputs": [],
   "source": [
    "\n",
    "# make a function that makes it greyscale, and scale the values. After that you will need to *reshape* the array to be the correct dimensions \n",
    "# - essentially flattening the 2d array like we saw with greyscale histograms. \n",
    "\n",
    "def process(X_train, X_test):\n",
    "    # initialize empty lists\n",
    "    X_train_results = []\n",
    "    X_test_results = []\n",
    "    # preprocessing\n",
    "    for image in X_train:\n",
    "        greyed_X_train = cv2.cvtColor(image, cv2.COLOR_BGR2GRAY)\n",
    "        scaled_X_train = greyed_X_train/255.0\n",
    "        X_train_results.append(scaled_X_train)\n",
    "    reshaped_X_train = np.array(X_train_results).reshape(-1, 1024)\n",
    "\n",
    "    for image in X_test:\n",
    "        greyed_X_test = cv2.cvtColor(image, cv2.COLOR_BGR2GRAY)\n",
    "        scaled_X_test = greyed_X_test/255.0\n",
    "        X_test_results.append(scaled_X_test)\n",
    "    reshaped_X_test = np.array(X_test_results).reshape(-1, 1024)\n",
    "\n",
    "    return reshaped_X_train, reshaped_X_test\n",
    "\n"
   ]
  },
  {
   "cell_type": "markdown",
   "metadata": {},
   "source": [
    "## Train the classifier"
   ]
  },
  {
   "cell_type": "code",
   "execution_count": 18,
   "metadata": {},
   "outputs": [],
   "source": [
    "# Make function for training a classifier and saving the classification report \n",
    "# Save a plot of the loss curve during training \n",
    "from joblib import dump, load\n",
    "\n",
    "\n",
    "def train_classifier_LR(reshaped_X_train, y_train, reshaped_X_test, y_test): \n",
    "        \n",
    "# logistic regression \n",
    "    clf = LogisticRegression(tol=0.1, \n",
    "                         solver='saga',\n",
    "                         multi_class='multinomial').fit(reshaped_X_train, y_train)\n",
    "\n",
    "\n",
    "    #calculate predictions for all data the scaled test data.\n",
    "    y_pred = clf.predict(reshaped_X_test)\n",
    "\n",
    "# get label names\n",
    "    label_names = [\"airplane\", \n",
    "                    \"automobile\", \n",
    "                    \"bird\", \n",
    "                    \"cat\", \n",
    "                    \"deer\", \n",
    "                    \"dog\", \n",
    "                    \"frog\", \n",
    "                    \"horse\", \n",
    "                    \"ship\", \n",
    "                    \"truck\"] \n",
    "# report\n",
    "    LR_report = metrics.classification_report(y_test, y_pred, target_names = label_names)\n",
    "    \n",
    "\n",
    "# save report \n",
    "    f = open('../out/classification_report_LR.txt', 'w') # open in write mode\n",
    "    f.write(LR_report) # write the variable into the txt file \n",
    "    f.close() \n",
    "\n",
    "                         "
   ]
  },
  {
   "cell_type": "code",
   "execution_count": 19,
   "metadata": {},
   "outputs": [
    {
     "name": "stderr",
     "output_type": "stream",
     "text": [
      "/home/ucloud/.local/lib/python3.10/site-packages/sklearn/utils/validation.py:1300: DataConversionWarning: A column-vector y was passed when a 1d array was expected. Please change the shape of y to (n_samples, ), for example using ravel().\n",
      "  y = column_or_1d(y, warn=True)\n"
     ]
    }
   ],
   "source": [
    "# main for saving model \n",
    "\n",
    "def main():\n",
    "    #load data\n",
    "    (X_train, y_train), (X_test, y_test) = cifar10.load_data()\n",
    "    #process\n",
    "    X_train_scaled, X_test_scaled = process(X_train, X_test)\n",
    "    #train classifier and make report\n",
    "    train_classifier_LR(X_train_scaled, y_train, X_test_scaled, y_test)\n",
    "\n",
    "if __name__==\"__main__\": # if it's executed from the command line run the function \"main\", otherwise don't do anything \n",
    "    main()\n",
    "\n"
   ]
  },
  {
   "cell_type": "code",
   "execution_count": 1,
   "metadata": {},
   "outputs": [
    {
     "name": "stderr",
     "output_type": "stream",
     "text": [
      "2024-03-14 10:34:01.677001: I external/local_tsl/tsl/cuda/cudart_stub.cc:32] Could not find cuda drivers on your machine, GPU will not be used.\n",
      "2024-03-14 10:34:01.681527: I external/local_tsl/tsl/cuda/cudart_stub.cc:32] Could not find cuda drivers on your machine, GPU will not be used.\n",
      "2024-03-14 10:34:01.738430: I tensorflow/core/platform/cpu_feature_guard.cc:210] This TensorFlow binary is optimized to use available CPU instructions in performance-critical operations.\n",
      "To enable the following instructions: AVX2 AVX512F FMA, in other operations, rebuild TensorFlow with the appropriate compiler flags.\n",
      "2024-03-14 10:34:02.644471: W tensorflow/compiler/tf2tensorrt/utils/py_utils.cc:38] TF-TRT Warning: Could not find TensorRT\n",
      "/home/ucloud/.local/lib/python3.10/site-packages/sklearn/utils/validation.py:1300: DataConversionWarning: A column-vector y was passed when a 1d array was expected. Please change the shape of y to (n_samples, ), for example using ravel().\n",
      "  y = column_or_1d(y, warn=True)\n"
     ]
    }
   ],
   "source": [
    "import logistic_class\n",
    "\n",
    "logistic_class.main()"
   ]
  }
 ],
 "metadata": {
  "kernelspec": {
   "display_name": "Python 3",
   "language": "python",
   "name": "python3"
  },
  "language_info": {
   "codemirror_mode": {
    "name": "ipython",
    "version": 3
   },
   "file_extension": ".py",
   "mimetype": "text/x-python",
   "name": "python",
   "nbconvert_exporter": "python",
   "pygments_lexer": "ipython3",
   "version": "3.10.12"
  }
 },
 "nbformat": 4,
 "nbformat_minor": 2
}
